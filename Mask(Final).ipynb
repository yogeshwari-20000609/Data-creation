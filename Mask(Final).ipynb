{
 "cells": [
  {
   "cell_type": "code",
   "execution_count": 19,
   "id": "d894c930",
   "metadata": {},
   "outputs": [],
   "source": [
    "from PIL import Image, ImageOps\n",
    "import numpy as np\n",
    "from numpy import asarray\n",
    "import cv2\n",
    "import os\n",
    "import sys\n",
    "in_path = 'D:/Project/Dataset/Extracted/Single/'\n",
    "out_path = 'D:/Project/Data Creation/output/Single/'\n",
    "def get_mask(image_path):\n",
    "    image = Image.open(image_path)\n",
    "    image = asarray(image)\n",
    "    bg = np.array([255, 255, 255])\n",
    "    mask = np.array([255, 255, 255])\n",
    "    #image[image] = 255 \n",
    "    alpha = (image[:, :, 3] / 255).reshape(image.shape[:2] + (1,))\n",
    "    image = ((bg * (1 - alpha)) + (image[:, :, :3] * alpha)).astype(np.uint8)\n",
    "    image = Image.fromarray(image)\n",
    "    data = image.getdata()\n",
    "    new_image_data = []\n",
    "    for item in data :\n",
    "        if item == (255,255,255):\n",
    "            new_image_data.append((255,255,255))\n",
    "        else :\n",
    "            new_image_data.append((0,0,0))\n",
    "    image.putdata(new_image_data)\n",
    "    image = ImageOps.invert(image)\n",
    "    image = asarray(image)\n",
    "    return image\n",
    "\n",
    "for path in os.listdir(in_path):\n",
    "    path_ = in_path+path\n",
    "    mask = get_mask(path_)\n",
    "    #mask_ = PIL.Image.fromarray(labels)\n",
    "    path_ = out_path+path\n",
    "    mask.save(path_)"
   ]
  },
  {
   "cell_type": "code",
   "execution_count": 22,
   "id": "762886e7",
   "metadata": {},
   "outputs": [],
   "source": [
    "#testing on single image\n",
    "def get_mask(image_path):\n",
    "    image = Image.open(image_path)\n",
    "    image = asarray(image)\n",
    "    bg = np.array([255, 255, 255])\n",
    "    mask = np.array([255, 255, 255])\n",
    "    #image[image] = 255 \n",
    "    alpha = (image[:, :, 3] / 255).reshape(image.shape[:2] + (1,))\n",
    "    image = ((bg * (1 - alpha)) + (image[:, :, :3] * alpha)).astype(np.uint8)\n",
    "    image = Image.fromarray(image)\n",
    "    data = image.getdata()\n",
    "    new_image_data = []\n",
    "    for item in data :\n",
    "        if item == (255,255,255):\n",
    "            new_image_data.append((255,255,255))\n",
    "        else :\n",
    "            new_image_data.append((0,0,0))\n",
    "    image.putdata(new_image_data)\n",
    "    image = ImageOps.invert(image)\n",
    "    image = asarray(image)\n",
    "    return image\n",
    "image = get_mask('D:\\Project\\Dataset\\Extracted\\Single\\DA203376.png')\n",
    "image = Image.fromarray(image)\n",
    "image.save('tested.png')"
   ]
  },
  {
   "cell_type": "code",
   "execution_count": null,
   "id": "458dc965",
   "metadata": {},
   "outputs": [],
   "source": []
  },
  {
   "cell_type": "code",
   "execution_count": null,
   "id": "5367d4fe",
   "metadata": {},
   "outputs": [],
   "source": []
  },
  {
   "cell_type": "code",
   "execution_count": 34,
   "id": "9d4dc121",
   "metadata": {},
   "outputs": [
    {
     "ename": "error",
     "evalue": "OpenCV(4.6.0) :-1: error: (-5:Bad argument) in function 'cvtColor'\n> Overload resolution failed:\n>  - src is not a numpy array, neither a scalar\n>  - Expected Ptr<cv::UMat> for argument 'src'\n",
     "output_type": "error",
     "traceback": [
      "\u001b[1;31m---------------------------------------------------------------------------\u001b[0m",
      "\u001b[1;31merror\u001b[0m                                     Traceback (most recent call last)",
      "Input \u001b[1;32mIn [34]\u001b[0m, in \u001b[0;36m<cell line: 16>\u001b[1;34m()\u001b[0m\n\u001b[0;32m     13\u001b[0m     data \u001b[38;5;241m/\u001b[39m\u001b[38;5;241m=\u001b[39m \u001b[38;5;241m255\u001b[39m\n\u001b[0;32m     14\u001b[0m     \u001b[38;5;28;01mreturn\u001b[39;00m data\n\u001b[1;32m---> 16\u001b[0m image \u001b[38;5;241m=\u001b[39m (\u001b[43mget_image\u001b[49m\u001b[43m(\u001b[49m\u001b[38;5;124;43mr\u001b[39;49m\u001b[38;5;124;43m'\u001b[39;49m\u001b[38;5;124;43mD:\u001b[39;49m\u001b[38;5;124;43m\\\u001b[39;49m\u001b[38;5;124;43mProject\u001b[39;49m\u001b[38;5;124;43m\\\u001b[39;49m\u001b[38;5;124;43mDataset\u001b[39;49m\u001b[38;5;124;43m\\\u001b[39;49m\u001b[38;5;124;43mRaw\u001b[39;49m\u001b[38;5;124;43m\\\u001b[39;49m\u001b[38;5;124;43mSingle\u001b[39;49m\u001b[38;5;124;43m\\\u001b[39;49m\u001b[38;5;124;43mDA203352.jpg\u001b[39;49m\u001b[38;5;124;43m'\u001b[39;49m\u001b[43m)\u001b[49m)\u001b[38;5;241m.\u001b[39mastype(np\u001b[38;5;241m.\u001b[39muint8)\n\u001b[0;32m     17\u001b[0m image \u001b[38;5;241m=\u001b[39m Image\u001b[38;5;241m.\u001b[39mfromarray(image\u001b[38;5;241m*\u001b[39m\u001b[38;5;241m255\u001b[39m)\n\u001b[0;32m     18\u001b[0m image\u001b[38;5;241m.\u001b[39msave(\u001b[38;5;124m'\u001b[39m\u001b[38;5;124mtest.jpg\u001b[39m\u001b[38;5;124m'\u001b[39m)\n",
      "Input \u001b[1;32mIn [34]\u001b[0m, in \u001b[0;36mget_image\u001b[1;34m(input_path)\u001b[0m\n\u001b[0;32m      2\u001b[0m rgba \u001b[38;5;241m=\u001b[39m Image\u001b[38;5;241m.\u001b[39mopen(input_path)\n\u001b[0;32m      3\u001b[0m rgba\u001b[38;5;241m.\u001b[39mload()\n\u001b[1;32m----> 4\u001b[0m rgb \u001b[38;5;241m=\u001b[39m \u001b[43mcv2\u001b[49m\u001b[38;5;241;43m.\u001b[39;49m\u001b[43mcvtColor\u001b[49m\u001b[43m(\u001b[49m\u001b[43mrgba\u001b[49m\u001b[43m,\u001b[49m\u001b[43m \u001b[49m\u001b[43mcv2\u001b[49m\u001b[38;5;241;43m.\u001b[39;49m\u001b[43mCOLOR_RGBA2RGB\u001b[49m\u001b[43m)\u001b[49m\n\u001b[0;32m      5\u001b[0m background \u001b[38;5;241m=\u001b[39m Image\u001b[38;5;241m.\u001b[39mnew(\u001b[38;5;124m'\u001b[39m\u001b[38;5;124mRGBA\u001b[39m\u001b[38;5;124m'\u001b[39m, rgba\u001b[38;5;241m.\u001b[39msize, (\u001b[38;5;241m255\u001b[39m,\u001b[38;5;241m255\u001b[39m,\u001b[38;5;241m255\u001b[39m))\n\u001b[0;32m      6\u001b[0m alpha_composite \u001b[38;5;241m=\u001b[39m Image\u001b[38;5;241m.\u001b[39malpha_composite(background, rgba)\n",
      "\u001b[1;31merror\u001b[0m: OpenCV(4.6.0) :-1: error: (-5:Bad argument) in function 'cvtColor'\n> Overload resolution failed:\n>  - src is not a numpy array, neither a scalar\n>  - Expected Ptr<cv::UMat> for argument 'src'\n"
     ]
    }
   ],
   "source": [
    "def get_image(input_path):\n",
    "    rgba = Image.open(input_path)\n",
    "    rgba.load()\n",
    "    rgb = cv2.cvtColor(rgba, cv2.COLOR_RGBA2RGB)\n",
    "    background = Image.new('RGBA', rgba.size, (255,255,255))\n",
    "    alpha_composite = Image.alpha_composite(background, rgba)\n",
    "    # if you check the matrix dimension, channel, it would be still 4.  \n",
    "    #h, w, channel = np.asarray(alpha_composite)\n",
    "    rgb = alpha_composite.convert('RGB')\n",
    "    #rgb.save(f'image/rgb{x}.png')\n",
    "    data = np.asarray(rgb)\n",
    "    data = data.astype('float32')\n",
    "    data /= 255\n",
    "    return data\n",
    "\n",
    "image = (get_image(r'D:\\Project\\Dataset\\Raw\\Single\\DA203352.jpg')).astype(np.uint8)\n",
    "image = Image.fromarray(image*255)\n",
    "image.save('test.jpg')"
   ]
  },
  {
   "cell_type": "code",
   "execution_count": null,
   "id": "2987b2c4",
   "metadata": {},
   "outputs": [],
   "source": []
  }
 ],
 "metadata": {
  "kernelspec": {
   "display_name": "Python 3 (ipykernel)",
   "language": "python",
   "name": "python3"
  },
  "language_info": {
   "codemirror_mode": {
    "name": "ipython",
    "version": 3
   },
   "file_extension": ".py",
   "mimetype": "text/x-python",
   "name": "python",
   "nbconvert_exporter": "python",
   "pygments_lexer": "ipython3",
   "version": "3.9.10"
  }
 },
 "nbformat": 4,
 "nbformat_minor": 5
}
