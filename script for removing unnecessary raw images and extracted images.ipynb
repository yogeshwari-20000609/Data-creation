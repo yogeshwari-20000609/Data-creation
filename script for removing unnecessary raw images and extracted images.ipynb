{
 "cells": [
  {
   "cell_type": "code",
   "execution_count": 97,
   "id": "d212cbf2",
   "metadata": {},
   "outputs": [],
   "source": [
    "import os\n",
    "import sys\n",
    "folder_raw = 'D:/Project/Dataset/Raw/Team/'\n",
    "folder_extracted = 'D:/Project/Dataset/Extracted/Team/'\n",
    "lst = []\n",
    "for extracted_path in os.listdir(folder_extracted) :\n",
    "    e_path, e_ext = os.path.splitext(extracted_path)\n",
    "    e_path = e_path+'.jpg'\n",
    "    lst.append(e_path)\n",
    "    \n",
    "for path in os.listdir(folder_raw) :\n",
    "    if not path in lst:\n",
    "        raw = folder_raw+path\n",
    "        #print(raw)\n",
    "        os.remove(raw)\n",
    "        print(\"Removed -\", raw)\n",
    "        "
   ]
  },
  {
   "cell_type": "code",
   "execution_count": 98,
   "id": "5fbf3945",
   "metadata": {},
   "outputs": [],
   "source": [
    "folder_raw = 'D:/Project/Dataset/Raw/Team/'\n",
    "folder_extracted = 'D:/Project/Dataset/Extracted/team/'\n",
    "lst = []\n",
    "for raw_path in os.listdir(folder_raw) :\n",
    "    e_path, e_ext = os.path.splitext(raw_path)\n",
    "    e_path = e_path+'.png'\n",
    "    lst.append(e_path)\n",
    "    \n",
    "for path in os.listdir(folder_extracted) :\n",
    "    if not path in lst:\n",
    "        raw = folder_extracted+path\n",
    "        #print(raw)\n",
    "        os.remove(raw)\n",
    "        print(\"Removed -\", raw)\n",
    "        "
   ]
  },
  {
   "cell_type": "code",
   "execution_count": null,
   "id": "44680556",
   "metadata": {},
   "outputs": [],
   "source": []
  }
 ],
 "metadata": {
  "kernelspec": {
   "display_name": "Python 3 (ipykernel)",
   "language": "python",
   "name": "python3"
  },
  "language_info": {
   "codemirror_mode": {
    "name": "ipython",
    "version": 3
   },
   "file_extension": ".py",
   "mimetype": "text/x-python",
   "name": "python",
   "nbconvert_exporter": "python",
   "pygments_lexer": "ipython3",
   "version": "3.9.10"
  }
 },
 "nbformat": 4,
 "nbformat_minor": 5
}
